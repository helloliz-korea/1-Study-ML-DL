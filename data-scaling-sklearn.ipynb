{
 "cells": [
  {
   "cell_type": "markdown",
   "metadata": {},
   "source": [
    "##### 데이터 스케일링\n",
    "#### (1) StandardScaler() : X ~ N(0,1)\n",
    "- 데이터 내에 이상치가 있다면 데이터의 평균과 분산에 크게 영향을 주기 때문에 스케일링 방법으로 적절하지 않음\n",
    "- sklearn 으로 데이터 스케일링을 할 경우, train dataset과 test dataset에 각각 다른 과정 필요\n",
    "    - train : fit -> transform 적용\n",
    "    - test : transform 적용"
   ]
  },
  {
   "cell_type": "code",
   "execution_count": 1,
   "metadata": {},
   "outputs": [],
   "source": [
    "import random\n",
    "random.seed(1)"
   ]
  },
  {
   "cell_type": "code",
   "execution_count": 2,
   "metadata": {},
   "outputs": [],
   "source": [
    "import sklearn\n",
    "import numpy as np\n",
    "import pandas as pd\n",
    "import seaborn as sns\n",
    "import matplotlib.pyplot as plt\n",
    "\n",
    "from sklearn.model_selection import train_test_split\n",
    "from sklearn.tree import DecisionTreeClassifier\n",
    "from sklearn.datasets import load_breast_cancer\n",
    "\n",
    "cancer=load_breast_cancer()"
   ]
  },
  {
   "cell_type": "code",
   "execution_count": 3,
   "metadata": {},
   "outputs": [
    {
     "data": {
      "text/html": [
       "<div>\n",
       "<style scoped>\n",
       "    .dataframe tbody tr th:only-of-type {\n",
       "        vertical-align: middle;\n",
       "    }\n",
       "\n",
       "    .dataframe tbody tr th {\n",
       "        vertical-align: top;\n",
       "    }\n",
       "\n",
       "    .dataframe thead th {\n",
       "        text-align: right;\n",
       "    }\n",
       "</style>\n",
       "<table border=\"1\" class=\"dataframe\">\n",
       "  <thead>\n",
       "    <tr style=\"text-align: right;\">\n",
       "      <th></th>\n",
       "      <th>mean radius</th>\n",
       "      <th>mean texture</th>\n",
       "      <th>mean perimeter</th>\n",
       "      <th>mean area</th>\n",
       "      <th>mean smoothness</th>\n",
       "      <th>mean compactness</th>\n",
       "      <th>mean concavity</th>\n",
       "      <th>mean concave points</th>\n",
       "      <th>mean symmetry</th>\n",
       "      <th>mean fractal dimension</th>\n",
       "      <th>...</th>\n",
       "      <th>worst texture</th>\n",
       "      <th>worst perimeter</th>\n",
       "      <th>worst area</th>\n",
       "      <th>worst smoothness</th>\n",
       "      <th>worst compactness</th>\n",
       "      <th>worst concavity</th>\n",
       "      <th>worst concave points</th>\n",
       "      <th>worst symmetry</th>\n",
       "      <th>worst fractal dimension</th>\n",
       "      <th>target</th>\n",
       "    </tr>\n",
       "  </thead>\n",
       "  <tbody>\n",
       "    <tr>\n",
       "      <th>0</th>\n",
       "      <td>17.99</td>\n",
       "      <td>10.38</td>\n",
       "      <td>122.80</td>\n",
       "      <td>1001.0</td>\n",
       "      <td>0.11840</td>\n",
       "      <td>0.27760</td>\n",
       "      <td>0.3001</td>\n",
       "      <td>0.14710</td>\n",
       "      <td>0.2419</td>\n",
       "      <td>0.07871</td>\n",
       "      <td>...</td>\n",
       "      <td>17.33</td>\n",
       "      <td>184.60</td>\n",
       "      <td>2019.0</td>\n",
       "      <td>0.1622</td>\n",
       "      <td>0.6656</td>\n",
       "      <td>0.7119</td>\n",
       "      <td>0.2654</td>\n",
       "      <td>0.4601</td>\n",
       "      <td>0.11890</td>\n",
       "      <td>0</td>\n",
       "    </tr>\n",
       "    <tr>\n",
       "      <th>1</th>\n",
       "      <td>20.57</td>\n",
       "      <td>17.77</td>\n",
       "      <td>132.90</td>\n",
       "      <td>1326.0</td>\n",
       "      <td>0.08474</td>\n",
       "      <td>0.07864</td>\n",
       "      <td>0.0869</td>\n",
       "      <td>0.07017</td>\n",
       "      <td>0.1812</td>\n",
       "      <td>0.05667</td>\n",
       "      <td>...</td>\n",
       "      <td>23.41</td>\n",
       "      <td>158.80</td>\n",
       "      <td>1956.0</td>\n",
       "      <td>0.1238</td>\n",
       "      <td>0.1866</td>\n",
       "      <td>0.2416</td>\n",
       "      <td>0.1860</td>\n",
       "      <td>0.2750</td>\n",
       "      <td>0.08902</td>\n",
       "      <td>0</td>\n",
       "    </tr>\n",
       "    <tr>\n",
       "      <th>2</th>\n",
       "      <td>19.69</td>\n",
       "      <td>21.25</td>\n",
       "      <td>130.00</td>\n",
       "      <td>1203.0</td>\n",
       "      <td>0.10960</td>\n",
       "      <td>0.15990</td>\n",
       "      <td>0.1974</td>\n",
       "      <td>0.12790</td>\n",
       "      <td>0.2069</td>\n",
       "      <td>0.05999</td>\n",
       "      <td>...</td>\n",
       "      <td>25.53</td>\n",
       "      <td>152.50</td>\n",
       "      <td>1709.0</td>\n",
       "      <td>0.1444</td>\n",
       "      <td>0.4245</td>\n",
       "      <td>0.4504</td>\n",
       "      <td>0.2430</td>\n",
       "      <td>0.3613</td>\n",
       "      <td>0.08758</td>\n",
       "      <td>0</td>\n",
       "    </tr>\n",
       "    <tr>\n",
       "      <th>3</th>\n",
       "      <td>11.42</td>\n",
       "      <td>20.38</td>\n",
       "      <td>77.58</td>\n",
       "      <td>386.1</td>\n",
       "      <td>0.14250</td>\n",
       "      <td>0.28390</td>\n",
       "      <td>0.2414</td>\n",
       "      <td>0.10520</td>\n",
       "      <td>0.2597</td>\n",
       "      <td>0.09744</td>\n",
       "      <td>...</td>\n",
       "      <td>26.50</td>\n",
       "      <td>98.87</td>\n",
       "      <td>567.7</td>\n",
       "      <td>0.2098</td>\n",
       "      <td>0.8663</td>\n",
       "      <td>0.6869</td>\n",
       "      <td>0.2575</td>\n",
       "      <td>0.6638</td>\n",
       "      <td>0.17300</td>\n",
       "      <td>0</td>\n",
       "    </tr>\n",
       "    <tr>\n",
       "      <th>4</th>\n",
       "      <td>20.29</td>\n",
       "      <td>14.34</td>\n",
       "      <td>135.10</td>\n",
       "      <td>1297.0</td>\n",
       "      <td>0.10030</td>\n",
       "      <td>0.13280</td>\n",
       "      <td>0.1980</td>\n",
       "      <td>0.10430</td>\n",
       "      <td>0.1809</td>\n",
       "      <td>0.05883</td>\n",
       "      <td>...</td>\n",
       "      <td>16.67</td>\n",
       "      <td>152.20</td>\n",
       "      <td>1575.0</td>\n",
       "      <td>0.1374</td>\n",
       "      <td>0.2050</td>\n",
       "      <td>0.4000</td>\n",
       "      <td>0.1625</td>\n",
       "      <td>0.2364</td>\n",
       "      <td>0.07678</td>\n",
       "      <td>0</td>\n",
       "    </tr>\n",
       "  </tbody>\n",
       "</table>\n",
       "<p>5 rows × 31 columns</p>\n",
       "</div>"
      ],
      "text/plain": [
       "   mean radius  mean texture  mean perimeter  mean area  mean smoothness  \\\n",
       "0        17.99         10.38          122.80     1001.0          0.11840   \n",
       "1        20.57         17.77          132.90     1326.0          0.08474   \n",
       "2        19.69         21.25          130.00     1203.0          0.10960   \n",
       "3        11.42         20.38           77.58      386.1          0.14250   \n",
       "4        20.29         14.34          135.10     1297.0          0.10030   \n",
       "\n",
       "   mean compactness  mean concavity  mean concave points  mean symmetry  \\\n",
       "0           0.27760          0.3001              0.14710         0.2419   \n",
       "1           0.07864          0.0869              0.07017         0.1812   \n",
       "2           0.15990          0.1974              0.12790         0.2069   \n",
       "3           0.28390          0.2414              0.10520         0.2597   \n",
       "4           0.13280          0.1980              0.10430         0.1809   \n",
       "\n",
       "   mean fractal dimension  ...  worst texture  worst perimeter  worst area  \\\n",
       "0                 0.07871  ...          17.33           184.60      2019.0   \n",
       "1                 0.05667  ...          23.41           158.80      1956.0   \n",
       "2                 0.05999  ...          25.53           152.50      1709.0   \n",
       "3                 0.09744  ...          26.50            98.87       567.7   \n",
       "4                 0.05883  ...          16.67           152.20      1575.0   \n",
       "\n",
       "   worst smoothness  worst compactness  worst concavity  worst concave points  \\\n",
       "0            0.1622             0.6656           0.7119                0.2654   \n",
       "1            0.1238             0.1866           0.2416                0.1860   \n",
       "2            0.1444             0.4245           0.4504                0.2430   \n",
       "3            0.2098             0.8663           0.6869                0.2575   \n",
       "4            0.1374             0.2050           0.4000                0.1625   \n",
       "\n",
       "   worst symmetry  worst fractal dimension  target  \n",
       "0          0.4601                  0.11890       0  \n",
       "1          0.2750                  0.08902       0  \n",
       "2          0.3613                  0.08758       0  \n",
       "3          0.6638                  0.17300       0  \n",
       "4          0.2364                  0.07678       0  \n",
       "\n",
       "[5 rows x 31 columns]"
      ]
     },
     "execution_count": 3,
     "metadata": {},
     "output_type": "execute_result"
    }
   ],
   "source": [
    "cancer_df = pd.DataFrame(data=cancer.data, columns=cancer.feature_names)\n",
    "cancer_df['target'] = cancer.target\n",
    "cancer_df.head()"
   ]
  },
  {
   "cell_type": "code",
   "execution_count": 4,
   "metadata": {},
   "outputs": [
    {
     "name": "stdout",
     "output_type": "stream",
     "text": [
      "모델의 정확도 : 0.9035\n"
     ]
    }
   ],
   "source": [
    "X_train, X_test, y_train, y_test = train_test_split(cancer.data, cancer.target, test_size=0.2, random_state=3)\n",
    "dtc = DecisionTreeClassifier()\n",
    "dtc.fit(X_train, y_train)\n",
    "print('모델의 정확도 :', round(dtc.score(X_test, y_test), 4))"
   ]
  },
  {
   "cell_type": "code",
   "execution_count": 5,
   "metadata": {},
   "outputs": [
    {
     "name": "stdout",
     "output_type": "stream",
     "text": [
      "모델의 정확도 : 0.8772\n"
     ]
    }
   ],
   "source": [
    "# 표준화\n",
    "from sklearn.preprocessing import StandardScaler\n",
    "\n",
    "std = StandardScaler()\n",
    "std.fit(X_train)\n",
    "X_train_scaled = std.transform(X_train)\n",
    "X_test_scaled = std.transform(X_test)\n",
    "dtc.fit(X_train_scaled, y_train)\n",
    "print('모델의 정확도 :', round(dtc.score(X_test_scaled, y_test), 4))"
   ]
  },
  {
   "cell_type": "code",
   "execution_count": 6,
   "metadata": {},
   "outputs": [
    {
     "data": {
      "text/plain": [
       "array([[1.916e+01, 2.660e+01, 1.262e+02, ..., 1.872e-01, 3.258e-01,\n",
       "        9.720e-02],\n",
       "       [1.831e+01, 1.858e+01, 1.186e+02, ..., 1.571e-01, 3.206e-01,\n",
       "        6.938e-02],\n",
       "       [1.404e+01, 1.598e+01, 8.978e+01, ..., 7.453e-02, 2.725e-01,\n",
       "        7.234e-02],\n",
       "       ...,\n",
       "       [1.795e+01, 2.001e+01, 1.142e+02, ..., 1.185e-01, 4.882e-01,\n",
       "        6.111e-02],\n",
       "       [1.955e+01, 2.877e+01, 1.336e+02, ..., 1.941e-01, 2.818e-01,\n",
       "        1.005e-01],\n",
       "       [1.152e+01, 1.493e+01, 7.387e+01, ..., 9.608e-02, 2.664e-01,\n",
       "        7.809e-02]])"
      ]
     },
     "execution_count": 6,
     "metadata": {},
     "output_type": "execute_result"
    }
   ],
   "source": [
    "X_train"
   ]
  },
  {
   "cell_type": "code",
   "execution_count": 7,
   "metadata": {},
   "outputs": [
    {
     "name": "stdout",
     "output_type": "stream",
     "text": [
      "(455, 30) [[ 1.40381088  1.79283426  1.37960065 ...  1.044121    0.52295995\n",
      "   0.64990763]\n",
      " [ 1.16565505 -0.14461158  1.07121375 ...  0.5940779   0.44153782\n",
      "  -0.85281516]\n",
      " [-0.0307278  -0.77271123 -0.09822185 ... -0.64047556 -0.31161687\n",
      "  -0.69292805]\n",
      " ...\n",
      " [ 1.06478904  0.20084323  0.89267396 ...  0.01694621  3.06583565\n",
      "  -1.29952679]\n",
      " [ 1.51308238  2.3170559   1.67987211 ...  1.14728703 -0.16599653\n",
      "   0.82816016]\n",
      " [-0.73678981 -1.02636686 -0.74380549 ... -0.31826862 -0.40713129\n",
      "  -0.38233653]]\n"
     ]
    }
   ],
   "source": [
    "print(X_train_scaled.shape, X_train_scaled)"
   ]
  },
  {
   "cell_type": "code",
   "execution_count": 8,
   "metadata": {},
   "outputs": [],
   "source": [
    "X_train_scaled_ss = X_train_scaled.reshape(13650,1)\n",
    "X_train_data = X_train.reshape(13650,1)"
   ]
  },
  {
   "cell_type": "code",
   "execution_count": 9,
   "metadata": {},
   "outputs": [
    {
     "data": {
      "image/png": "[encoded data removed]",
      "text/plain": [
       "<Figure size 432x288 with 1 Axes>"
      ]
     },
     "metadata": {
      "needs_background": "light"
     },
     "output_type": "display_data"
    }
   ],
   "source": [
    "plt.hist(X_train_data, bins=30, color= 'red', alpha = 0.7)\n",
    "plt.title('before data scaling')\n",
    "plt.show()"
   ]
  },
  {
   "cell_type": "code",
   "execution_count": 10,
   "metadata": {},
   "outputs": [
    {
     "data": {
      "image/png": "[encoded data removed]",
      "text/plain": [
       "<Figure size 432x288 with 1 Axes>"
      ]
     },
     "metadata": {
      "needs_background": "light"
     },
     "output_type": "display_data"
    }
   ],
   "source": [
    "plt.hist(X_train_scaled_ss, bins=30, alpha = 0.7, density = True)\n",
    "plt.title('StandardScaler')\n",
    "plt.show()"
   ]
  },
  {
   "cell_type": "markdown",
   "metadata": {},
   "source": [
    "#### (2) MinMaxScaler() : 0 $\\leq X_i \\leq$ 1, $X_i$ = data\n",
    "- 피처별로 최솟값은 0, 최댓값은 1\n",
    "- 데이터가 2차원인 경우, 모든 데이터는 x, y 축의 0과 1 사이에 존재\n",
    "- 이것도 이상치 존재하면, 이상치가 극값이 되어 데이터가 아주 좁은 범위에 분포하므로 스케일링으로 적절치 않음"
   ]
  },
  {
   "cell_type": "code",
   "execution_count": 11,
   "metadata": {},
   "outputs": [
    {
     "name": "stdout",
     "output_type": "stream",
     "text": [
      "모델의 정확도 : 0.9035\n"
     ]
    }
   ],
   "source": [
    "from sklearn.preprocessing import MinMaxScaler\n",
    "\n",
    "mms = MinMaxScaler()\n",
    "mms.fit(X_train)\n",
    "X_train_scaled = mms.transform(X_train)\n",
    "X_test_scaled = mms.transform(X_test)\n",
    "dtc.fit(X_train_scaled, y_train)\n",
    "print('모델의 정확도 :', round(dtc.score(X_test_scaled, y_test), 4))"
   ]
  },
  {
   "cell_type": "code",
   "execution_count": 12,
   "metadata": {},
   "outputs": [
    {
     "data": {
      "text/plain": [
       "array([[0.56168275, 0.7081761 , 0.55664674, ..., 0.64329897, 0.33372758,\n",
       "        0.27653155],\n",
       "       [0.52005485, 0.37190776, 0.50256191, ..., 0.53986254, 0.32347723,\n",
       "        0.09405746],\n",
       "       [0.31093589, 0.26289308, 0.29746655, ..., 0.25611684, 0.22866154,\n",
       "        0.11347239],\n",
       "       ...,\n",
       "       [0.50242421, 0.43186583, 0.47124964, ..., 0.40721649, 0.65385374,\n",
       "        0.03981372],\n",
       "       [0.5807826 , 0.79916143, 0.60930828, ..., 0.66701031, 0.24699389,\n",
       "        0.29817657],\n",
       "       [0.18752143, 0.21886792, 0.18424424, ..., 0.33017182, 0.2166371 ,\n",
       "        0.1511872 ]])"
      ]
     },
     "execution_count": 12,
     "metadata": {},
     "output_type": "execute_result"
    }
   ],
   "source": [
    "X_train_scaled"
   ]
  },
  {
   "cell_type": "code",
   "execution_count": 13,
   "metadata": {},
   "outputs": [],
   "source": [
    "X_train_scaled_mms = X_train_scaled.reshape(13650,1)"
   ]
  },
  {
   "cell_type": "code",
   "execution_count": 14,
   "metadata": {},
   "outputs": [
    {
     "data": {
      "image/png": "[encoded data removed]",
      "text/plain": [
       "<Figure size 432x288 with 1 Axes>"
      ]
     },
     "metadata": {
      "needs_background": "light"
     },
     "output_type": "display_data"
    }
   ],
   "source": [
    "plt.hist(X_train_scaled_mms, bins=30, color='green', alpha = 0.7)\n",
    "plt.title('MinMaxScaler')\n",
    "plt.show()"
   ]
  },
  {
   "cell_type": "markdown",
   "metadata": {},
   "source": [
    "#### (3) MaxAbsScaler() : 0 $\\leq |X_i| \\leq$ 1, $X_i$ = data\n",
    "- (1), (2) 와 비슷\n",
    "- 즉, -1 $\\leq X_i \\leq$ 1\n",
    "- 이상치 영향 커서, 이상치 있다면 적절치 않음"
   ]
  },
  {
   "cell_type": "code",
   "execution_count": 15,
   "metadata": {},
   "outputs": [
    {
     "name": "stdout",
     "output_type": "stream",
     "text": [
      "모델의 정확도 : 0.886\n"
     ]
    }
   ],
   "source": [
    "from sklearn.preprocessing import MaxAbsScaler\n",
    "\n",
    "mas = MaxAbsScaler()\n",
    "mas.fit(X_train)\n",
    "X_train_scaled = mas.transform(X_train)\n",
    "X_test_scaled = mas.transform(X_test)\n",
    "dtc.fit(X_train_scaled, y_train)\n",
    "print('모델의 정확도 :', round(dtc.score(X_test_scaled, y_test), 4))"
   ]
  },
  {
   "cell_type": "code",
   "execution_count": 16,
   "metadata": {},
   "outputs": [
    {
     "data": {
      "text/plain": [
       "array([[0.68160797, 0.79261025, 0.66949602, ..., 0.64329897, 0.49081049,\n",
       "        0.46843373],\n",
       "       [0.65136962, 0.55363528, 0.62917772, ..., 0.53986254, 0.4829768 ,\n",
       "        0.33436145],\n",
       "       [0.49946638, 0.4761621 , 0.47628647, ..., 0.25611684, 0.41051522,\n",
       "        0.34862651],\n",
       "       ...,\n",
       "       [0.63856279, 0.59624553, 0.60583554, ..., 0.40721649, 0.73546249,\n",
       "        0.29450602],\n",
       "       [0.69548203, 0.85727056, 0.70875332, ..., 0.66701031, 0.42452546,\n",
       "        0.48433735],\n",
       "       [0.40981857, 0.44487485, 0.39188329, ..., 0.33017182, 0.4013257 ,\n",
       "        0.37633735]])"
      ]
     },
     "execution_count": 16,
     "metadata": {},
     "output_type": "execute_result"
    }
   ],
   "source": [
    "X_train_scaled"
   ]
  },
  {
   "cell_type": "code",
   "execution_count": 17,
   "metadata": {},
   "outputs": [],
   "source": [
    "X_train_scaled_mas = X_train_scaled.reshape(13650,1)"
   ]
  },
  {
   "cell_type": "code",
   "execution_count": 18,
   "metadata": {},
   "outputs": [
    {
     "data": {
      "image/png": "[encoded data removed]",
      "text/plain": [
       "<Figure size 432x288 with 1 Axes>"
      ]
     },
     "metadata": {
      "needs_background": "light"
     },
     "output_type": "display_data"
    }
   ],
   "source": [
    "plt.hist(X_train_scaled_mas, bins=30, color='yellow', alpha = 0.7)\n",
    "plt.title('MaxAbsScaler')\n",
    "plt.show()"
   ]
  },
  {
   "cell_type": "markdown",
   "metadata": {},
   "source": [
    "#### (4) RobustScaler() : (1) StandardScaler와 비슷\n",
    "- (1) 은 평균/분산 이용, 여기선 중간값(median)과 사분위값(quartile) 사용\n",
    "- 이상치 영향 최소화\n",
    "- (1) 보다 표준화 후 데이터가 더 넓게 분포"
   ]
  },
  {
   "cell_type": "code",
   "execution_count": 19,
   "metadata": {},
   "outputs": [
    {
     "name": "stdout",
     "output_type": "stream",
     "text": [
      "모델의 정확도 : 0.9123\n"
     ]
    }
   ],
   "source": [
    "from sklearn.preprocessing import RobustScaler\n",
    "\n",
    "rbs = RobustScaler()\n",
    "X_train_scaled = rbs.fit_transform(X_train)\n",
    "X_test_scaled = rbs.transform(X_test)\n",
    "dtc.fit(X_train_scaled, y_train)\n",
    "print('모델의 정확도 :', round(dtc.score(X_test_scaled, y_test), 4))"
   ]
  },
  {
   "cell_type": "code",
   "execution_count": 20,
   "metadata": {},
   "outputs": [
    {
     "data": {
      "text/plain": [
       "array([[ 1.36170213,  1.42597639,  1.34367099, ...,  0.83828187,\n",
       "         0.63836018,  0.78497281],\n",
       "       [ 1.1607565 , -0.03088102,  1.08747682, ...,  0.54038005,\n",
       "         0.56222548, -0.59021256],\n",
       "       [ 0.15130024, -0.50317893,  0.11596157, ..., -0.27682106,\n",
       "        -0.1420205 , -0.44389521],\n",
       "       ...,\n",
       "       [ 1.07565012,  0.22888283,  0.93915389, ...,  0.15835313,\n",
       "         3.01610542, -0.99901137],\n",
       "       [ 1.45390071,  1.82016349,  1.59312321, ...,  0.90657165,\n",
       "        -0.00585652,  0.94809689],\n",
       "       [-0.44444444, -0.69391462, -0.42036069, ..., -0.06353919,\n",
       "        -0.23133236, -0.15966387]])"
      ]
     },
     "execution_count": 20,
     "metadata": {},
     "output_type": "execute_result"
    }
   ],
   "source": [
    "X_train_scaled"
   ]
  },
  {
   "cell_type": "code",
   "execution_count": 21,
   "metadata": {},
   "outputs": [],
   "source": [
    "X_train_scaled_rbs = X_train_scaled.reshape(13650,1)"
   ]
  },
  {
   "cell_type": "code",
   "execution_count": 22,
   "metadata": {},
   "outputs": [
    {
     "data": {
      "image/png": "[encoded data removed]",
      "text/plain": [
       "<Figure size 432x288 with 1 Axes>"
      ]
     },
     "metadata": {
      "needs_background": "light"
     },
     "output_type": "display_data"
    }
   ],
   "source": [
    "plt.hist(X_train_scaled_rbs, bins=30, color='pink', alpha = 0.7)\n",
    "plt.title('RobustScaler')\n",
    "plt.show()"
   ]
  },
  {
   "cell_type": "markdown",
   "metadata": {},
   "source": [
    "#### (5) Normalizer() \n",
    "- 앞의 4가지 방법은 각 피처(feature)의 통계치 이용\n",
    "- Normalizer 의 경우 각 행(row)마다 정규화가 진행 : 한 행의 모든 피처들 사이의 유클리드 거리가 1이 되도록 함\n",
    "- 이렇게 하면 좀 더 빠르게 학습할 수 있고 과대적합(overfitting) 확률을 낮출 수 있다고 함"
   ]
  },
  {
   "cell_type": "code",
   "execution_count": 23,
   "metadata": {},
   "outputs": [
    {
     "name": "stdout",
     "output_type": "stream",
     "text": [
      "모델의 정확도 : 0.9386\n"
     ]
    }
   ],
   "source": [
    "from sklearn.preprocessing import Normalizer\n",
    "\n",
    "norm = Normalizer()\n",
    "X_train_scaled = norm.fit_transform(X_train)\n",
    "X_test_scaled = norm.transform(X_test)\n",
    "dtc.fit(X_train_scaled, y_train)\n",
    "print('모델의 정확도 :', round(dtc.score(X_test_scaled, y_test), 4))"
   ]
  },
  {
   "cell_type": "code",
   "execution_count": 24,
   "metadata": {},
   "outputs": [
    {
     "data": {
      "text/plain": [
       "array([[9.22211661e-03, 1.28031473e-02, 6.07427514e-02, ...,\n",
       "        9.01033522e-05, 1.56814488e-04, 4.67844329e-05],\n",
       "       [1.03861667e-02, 1.05393215e-02, 6.72746788e-02, ...,\n",
       "        8.91134236e-05, 1.81857184e-04, 3.93551199e-05],\n",
       "       [1.43548748e-02, 1.63383831e-02, 9.17934942e-02, ...,\n",
       "        7.62014828e-05, 2.78611352e-04, 7.39623677e-05],\n",
       "       ...,\n",
       "       [1.11556685e-02, 1.24359291e-02, 7.09736683e-02, ...,\n",
       "        7.36460568e-05, 3.03409324e-04, 3.79789918e-05],\n",
       "       [8.54812786e-03, 1.25795211e-02, 5.84158507e-02, ...,\n",
       "        8.48691364e-05, 1.23215470e-04, 4.39430614e-05],\n",
       "       [1.77702285e-02, 2.30303396e-02, 1.13948505e-01, ...,\n",
       "        1.48208642e-04, 4.10936535e-04, 1.20458086e-04]])"
      ]
     },
     "execution_count": 24,
     "metadata": {},
     "output_type": "execute_result"
    }
   ],
   "source": [
    "X_train_scaled"
   ]
  },
  {
   "cell_type": "code",
   "execution_count": 25,
   "metadata": {},
   "outputs": [],
   "source": [
    "X_train_scaled_norm = X_train_scaled.reshape(13650,1)"
   ]
  },
  {
   "cell_type": "code",
   "execution_count": 26,
   "metadata": {},
   "outputs": [
    {
     "data": {
      "image/png": "[encoded data removed]",
      "text/plain": [
       "<Figure size 432x288 with 1 Axes>"
      ]
     },
     "metadata": {
      "needs_background": "light"
     },
     "output_type": "display_data"
    }
   ],
   "source": [
    "plt.hist(X_train_scaled_norm, bins=30, color='orange', alpha = 0.7)\n",
    "plt.title('Normalizer')\n",
    "plt.show()"
   ]
  },
  {
   "cell_type": "markdown",
   "metadata": {},
   "source": [
    "#### 참고 : https://dacon.io/en/codeshare/4526\n",
    "- 유방암 데이터셋을 활용한 SVC 분류 알고리즘 모델에서는 Normalizer 방법에서 모델의 정확도가 가장 상승\n",
    "- dataset과 사용하는 알고리즘에 따라 가장 적절한 스케일링 방법이 다르다고 함"
   ]
  }
 ],
 "metadata": {
  "kernelspec": {
   "display_name": "Python 3.10.4 ('tf')",
   "language": "python",
   "name": "python3"
  },
  "language_info": {
   "codemirror_mode": {
    "name": "ipython",
    "version": 3
   },
   "file_extension": ".py",
   "mimetype": "text/x-python",
   "name": "python",
   "nbconvert_exporter": "python",
   "pygments_lexer": "ipython3",
   "version": "3.10.4"
  },
  "orig_nbformat": 4,
  "vscode": {
   "interpreter": {
    "hash": "02aaae3c9b50b62c88d0cc652c4ef3b1b4bf05515e9d7a066ea77f7c79246682"
   }
  }
 },
 "nbformat": 4,
 "nbformat_minor": 2
}
